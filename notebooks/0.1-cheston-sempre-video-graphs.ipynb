{
 "cells": [
  {
   "cell_type": "markdown",
   "id": "b136c2d2",
   "metadata": {
    "id": "b136c2d2"
   },
   "source": [
    "# SEMPRE 50th Anniversary Conference\n",
    "![Sempre Logo](https://sempre.org.uk/images/sempre50th.jpg)\n",
    "## Video Figures\n",
    "\n",
    "The figures created in this notebook were used in a video presentation given at the [SEMPRE 50th Anniversary Conference](https://sempre.org.uk/50th), Senate House, University of London, 2-3rd September 2022. The title of the presentation was \"Measuring the effects of variable latency timings and jitter on networked music performances\".\n",
    "\n",
    "You can watch the full 10-minute video presentation [on YouTube](https://www.youtube.com/watch?v=x2kRgIk0bcw) or embedded below:"
   ]
  },
  {
   "cell_type": "code",
   "source": [
    "from IPython.display import YouTubeVideo\n",
    "YouTubeVideo(\"x2kRgIk0bcw\")"
   ],
   "metadata": {
    "id": "OxuscLsqmPhD",
    "outputId": "e7d8eecc-6574-4a10-b407-e45025788de7",
    "colab": {
     "base_uri": "https://localhost:8080/",
     "height": 321
    }
   },
   "id": "OxuscLsqmPhD",
   "execution_count": null,
   "outputs": []
  },
  {
   "cell_type": "markdown",
   "id": "c72356c0",
   "metadata": {
    "id": "c72356c0"
   },
   "source": [
    "## 1. Load dependencies, set constants"
   ]
  },
  {
   "cell_type": "code",
   "source": [
    "!git clone https://github.com/HuwCheston/Jazz-Jitter-Analysis"
   ],
   "metadata": {
    "id": "qkV5onyIkWxD",
    "outputId": "46be6b5d-a7cd-4eb8-b1a5-e99446420846",
    "colab": {
     "base_uri": "https://localhost:8080/"
    }
   },
   "id": "qkV5onyIkWxD",
   "execution_count": null,
   "outputs": []
  },
  {
   "cell_type": "code",
   "source": [
    "!pip install dill"
   ],
   "metadata": {
    "id": "y9z1ObdskjQ1",
    "outputId": "ac9a121c-6d54-4796-b417-ad08bf093d55",
    "colab": {
     "base_uri": "https://localhost:8080/"
    }
   },
   "id": "y9z1ObdskjQ1",
   "execution_count": null,
   "outputs": []
  },
  {
   "cell_type": "code",
   "execution_count": null,
   "id": "f5cc07e4",
   "metadata": {
    "id": "f5cc07e4"
   },
   "outputs": [],
   "source": [
    "import os\n",
    "import sys\n",
    "import dill\n",
    "import pandas as pd\n",
    "import numpy as np\n",
    "import matplotlib.pyplot as plt\n",
    "import matplotlib.patches\n",
    "from scipy.signal import savgol_filter"
   ]
  },
  {
   "cell_type": "code",
   "source": [
    "sys.path.append(os.path.abspath(\"/content/Jazz-Jitter-Analysis\"))\n",
    "print(sys.path)"
   ],
   "metadata": {
    "id": "DrpFJ47MkeqN",
    "outputId": "71d83d51-8e47-4d7e-acff-129f0cab0f58",
    "colab": {
     "base_uri": "https://localhost:8080/"
    }
   },
   "id": "DrpFJ47MkeqN",
   "execution_count": null,
   "outputs": []
  },
  {
   "cell_type": "markdown",
   "id": "c37a0eda",
   "metadata": {
    "id": "c37a0eda"
   },
   "source": [
    "## 2. Load pre-processed data\n",
    "We load pre-processed MIDI data from two performances, one which slowed down and another which sped up."
   ]
  },
  {
   "cell_type": "code",
   "execution_count": null,
   "id": "d7e6924e",
   "metadata": {
    "id": "d7e6924e"
   },
   "outputs": [],
   "source": [
    "input_filepath = \"/content/Jazz-Jitter-Analysis/notebooks/sempre_graph_examples/sempre_graph_examples.p\"\n",
    "figures_filepath = \"/content/Jazz-Jitter-Analysis/reports/figures\""
   ]
  },
  {
   "cell_type": "code",
   "source": [
    "data = dill.load(open(input_filepath, \"rb\"))"
   ],
   "metadata": {
    "id": "F0GCC3uRkuno"
   },
   "id": "F0GCC3uRkuno",
   "execution_count": null,
   "outputs": []
  },
  {
   "cell_type": "markdown",
   "id": "86f85625",
   "metadata": {
    "id": "86f85625"
   },
   "source": [
    "## 3. Clean loaded data"
   ]
  },
  {
   "cell_type": "code",
   "execution_count": null,
   "id": "89ad09d7",
   "metadata": {
    "id": "89ad09d7"
   },
   "outputs": [],
   "source": [
    "# Define variables to be assigned later\n",
    "decelerating_perf_k = None\n",
    "decelerating_perf_d = None\n",
    "accelerating_perf_k = None\n",
    "accelerating_perf_d = None"
   ]
  },
  {
   "cell_type": "code",
   "execution_count": null,
   "id": "b6888c9e",
   "metadata": {
    "id": "b6888c9e"
   },
   "outputs": [],
   "source": [
    "col = ['onset', 'pitch', 'velocity']\n",
    "def format_loaded_data(arr) -> pd.DataFrame:\n",
    "    \"\"\"Formats loaded dataframe, generates BPMs with rolling window\"\"\"\n",
    "    # Load dataframe, drop unnecessary columns\n",
    "    df = pd.DataFrame(arr, columns=col).drop(['pitch', 'velocity'], axis=1)\n",
    "    # Extract IOI\n",
    "    df['ioi'] = df['onset'].diff()\n",
    "    df['onset_floor'] = np.floor(df['onset'])\n",
    "    return df"
   ]
  },
  {
   "cell_type": "code",
   "execution_count": null,
   "id": "5c94bf2c",
   "metadata": {
    "id": "5c94bf2c"
   },
   "outputs": [],
   "source": [
    "# Iterate through each condition in trial\n",
    "for con in data:\n",
    "    # Decelerating performance\n",
    "    if con['trial'] == 4 and con['block'] == 1 and con['latency'] == 45 and con['jitter'] == 1:\n",
    "        if con['instrument'] == 'Drums':\n",
    "            decelerating_perf_d = format_loaded_data(con['midi_bpm'])\n",
    "        elif con['instrument'] == 'Keys':\n",
    "            decelerating_perf_k = format_loaded_data(con['midi_bpm'])\n",
    "    # Accelerating performance\n",
    "    elif con['trial'] == 5 and con['block'] == 1 and con['latency'] == 180 and con['jitter'] == 1:\n",
    "        if con['instrument'] == 'Drums':\n",
    "            accelerating_perf_d = format_loaded_data(con['midi_bpm'])\n",
    "        elif con['instrument'] == 'Keys':\n",
    "            accelerating_perf_k = format_loaded_data(con['midi_bpm'])"
   ]
  },
  {
   "cell_type": "code",
   "execution_count": null,
   "id": "373a39f6",
   "metadata": {
    "id": "373a39f6"
   },
   "outputs": [],
   "source": [
    "def average_perf(df1, df2) -> list:\n",
    "    \"\"\"\n",
    "    Returns a list of averaged BPMs from two performance.\n",
    "    Data is grouped by every second in a performance.\n",
    "    \"\"\"\n",
    "    # Merge dataframes from both performers together\n",
    "    bigdf = df1.merge(df2, how='inner', on='onset_floor')\n",
    "    # Set function\n",
    "    fn = lambda g: g.drop_duplicates().dropna().tolist()\n",
    "    # Average tempo of beat onsets created by both musicians within one second\n",
    "    avg_tempo = [(idx, np.mean([*fn(60/grp['ioi_x']), *fn(60/grp['ioi_y'])])) for idx, grp in bigdf.groupby('onset_floor')]\n",
    "    # Create dataframe\n",
    "    processed_df = pd.DataFrame(avg_tempo, columns=['onset', 'bpm_avg'])\n",
    "    # Roll average BPM column\n",
    "    processed_df['bpm_rolling'] = processed_df['bpm_avg'].rolling(window=4).mean()\n",
    "    return processed_df"
   ]
  },
  {
   "cell_type": "code",
   "execution_count": null,
   "id": "357b8d79",
   "metadata": {
    "id": "357b8d79"
   },
   "outputs": [],
   "source": [
    "decelerating_df = average_perf(decelerating_perf_d, decelerating_perf_k)\n",
    "accelerating_df = average_perf(accelerating_perf_d, accelerating_perf_k)"
   ]
  },
  {
   "cell_type": "markdown",
   "id": "c8d2407a",
   "metadata": {
    "id": "c8d2407a"
   },
   "source": [
    "## 4. Create graphs"
   ]
  },
  {
   "cell_type": "code",
   "execution_count": null,
   "id": "7d0c584d",
   "metadata": {
    "id": "7d0c584d"
   },
   "outputs": [],
   "source": [
    "# Set options in matplotlib\n",
    "plt.rcParams.update({\n",
    "    'font.size': 45,\n",
    "    \"font.family\": \"sans\",\n",
    "    'legend.fontsize': 'x-large',\n",
    "    'figure.figsize': (30, 14),\n",
    "    'axes.labelsize': 'x-large',\n",
    "    'axes.titlesize':'x-large',\n",
    "    'xtick.labelsize':'x-large',\n",
    "    'ytick.labelsize':'x-large',\n",
    "    'lines.linewidth': 10,\n",
    "    'lines.markersize': 10,\n",
    "    'ytick.major.size': 30.0,\n",
    "    'xtick.major.size': 30.0,\n",
    "})"
   ]
  },
  {
   "cell_type": "code",
   "execution_count": null,
   "id": "533a79c4",
   "metadata": {
    "id": "533a79c4",
    "outputId": "d552f364-a120-47e5-bb7d-b6891e495106",
    "colab": {
     "base_uri": "https://localhost:8080/",
     "height": 445
    }
   },
   "outputs": [],
   "source": [
    "# Create subplots\n",
    "fig, ax = plt.subplots(1, 1)\n",
    "# Plot tempo graph\n",
    "ax.plot(decelerating_df['onset'] - 10, decelerating_df['bpm_rolling'], color='#000080')\n",
    "# Add rectangle showing excerpt\n",
    "ax.add_patch(\n",
    "     matplotlib.patches.Rectangle(\n",
    "         (0, 40),\n",
    "         height=70,\n",
    "         width=32,\n",
    "         fill=False,\n",
    "         color='red',\n",
    "         hatch='/',\n",
    "         linewidth=5.0,\n",
    "         capstyle='butt',\n",
    "         alpha=0.5,\n",
    "     )\n",
    ")\n",
    "# Add horizontal line showing reference tempo\n",
    "ax.axhline(y=120, color='r', linestyle='--', alpha=0.3)\n",
    "# Set titles, labels, axis limits\n",
    "ax.set_ylabel('Tempo (BPM) \\nWindow = 4 beats')\n",
    "ax.set_xlabel('Performance Duration (s)')\n",
    "ax.set_ylim((30, 130))\n",
    "ax.annotate(\"Reference tempo\", xy=(80, 120), xytext=(70, 114),)\n",
    "ax.annotate(\"Extract you \\n just heard\", xy=(15, 100), xytext=(17, 97),)\n",
    "plt.tight_layout()\n",
    "\n",
    "plt.xticks(fontsize=45,)\n",
    "plt.yticks(fontsize=45,)\n",
    "\n",
    "# Remove comment to save figure\n",
    "# fig.savefig(f'{figures_filepath}\\\\sempre_presentation_graphs\\\\sempre_graphs_decelerating_performance.png', facecolor='white', transparent=False)"
   ]
  },
  {
   "cell_type": "code",
   "execution_count": null,
   "id": "66d2a2ef",
   "metadata": {
    "id": "66d2a2ef",
    "outputId": "2f27fecf-bda2-4e30-c3e5-2ac2ec8a869a",
    "colab": {
     "base_uri": "https://localhost:8080/",
     "height": 407
    }
   },
   "outputs": [],
   "source": [
    "fig, ax = plt.subplots(1, 1)\n",
    "ax.plot(accelerating_df['onset'] - 10, accelerating_df['bpm_rolling'], color='#000080')\n",
    "ax.set_ylabel('Tempo (BPM) \\nWindow = 4 beats')\n",
    "ax.set_xlabel('Performance Duration (s)')\n",
    "ax.set_ylim((110, 150))\n",
    "ax.add_patch(\n",
    "     matplotlib.patches.Rectangle(\n",
    "         (0, 115),\n",
    "         height=30,\n",
    "         width=32,\n",
    "         fill=False,\n",
    "         color='red',\n",
    "         hatch='/',\n",
    "         linewidth=5.0,\n",
    "         capstyle='butt',\n",
    "         alpha=0.5,\n",
    "     )\n",
    ")\n",
    "ax.axhline(y=120, color='r', linestyle='--', alpha=0.3)\n",
    "ax.annotate(\"Extract you \\n just heard\", xy=(30, 120), xytext=(1, 139),)\n",
    "ax.annotate(\"Reference tempo\", xy=(80, 120), xytext=(70, 121),)\n",
    "plt.tight_layout()\n",
    "\n",
    "plt.xticks(fontsize=45,)\n",
    "plt.yticks(fontsize=45,)\n",
    "\n",
    "# Remove comment to save figure\n",
    "# fig.savefig(f'{figures_filepath}\\\\sempre_presentation_graphs\\\\sempre_graphs_accelerating_performance.png', facecolor='white', transparent=False)"
   ]
  }
 ],
 "metadata": {
  "kernelspec": {
   "display_name": "Python 3 (ipykernel)",
   "language": "python",
   "name": "python3"
  },
  "language_info": {
   "codemirror_mode": {
    "name": "ipython",
    "version": 3
   },
   "file_extension": ".py",
   "mimetype": "text/x-python",
   "name": "python",
   "nbconvert_exporter": "python",
   "pygments_lexer": "ipython3",
   "version": "3.9.6"
  },
  "colab": {
   "provenance": []
  }
 },
 "nbformat": 4,
 "nbformat_minor": 5
}
