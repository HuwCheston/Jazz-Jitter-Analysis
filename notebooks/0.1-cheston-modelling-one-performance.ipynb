{
 "cells": [
  {
   "cell_type": "markdown",
   "id": "a4629960",
   "metadata": {
    "id": "a4629960"
   },
   "source": [
    "# Coordination Strategies in Networked Jazz Performances\n",
    "\n",
    "![image](https://user-images.githubusercontent.com/97224401/232460680-1542d4bb-46e7-4a25-bba0-dd206f61db64.png)\n",
    "\n",
    "*The two musicians (pianist, left; drummer, right) whose performance we will be modelling.*"
   ]
  },
  {
   "cell_type": "markdown",
   "id": "ddc30b38",
   "metadata": {
    "id": "ddc30b38"
   },
   "source": [
    "## Modelling one performance\n",
    "\n",
    "This notebook walks through the process of loading in the data for a single performance from the corpus, extracting the relevant features, modelling the interaction within the performance using our phase correction model, running a series of experimental simulations using the model, and finally visualising the results using a variety of in-built plots.\n",
    "\n",
    "For this example notebook, the performance we've selected to analyse is by the duo 3 (of five), from the first (of two) experimental sessions, with 90 milliseconds of latency and 0.0x jitter scaling."
   ]
  },
  {
   "cell_type": "markdown",
   "id": "66d67ba1",
   "metadata": {
    "id": "66d67ba1"
   },
   "source": [
    "## 1. Load dependencies, set constants\n",
    "\n",
    "**Process:**\n",
    "- Install dependencies that Google CoLab does not install by default;\n",
    "- Import dependencies that we need when working with our data;\n",
    "- Set PATH correctly\n",
    "- Set constant variables (number of simulations, example data)"
   ]
  },
  {
   "cell_type": "markdown",
   "id": "0924e803",
   "metadata": {
    "id": "0924e803"
   },
   "source": [
    "The following lines of code install the packages that Google CoLab does not contain by default"
   ]
  },
  {
   "cell_type": "code",
   "execution_count": null,
   "id": "a0b41c72",
   "metadata": {
    "colab": {
     "base_uri": "https://localhost:8080/"
    },
    "id": "a0b41c72",
    "outputId": "0e2b953f-cb68-4812-a352-29d21acd54b1"
   },
   "outputs": [],
   "source": [
    "!git clone https://github.com/HuwCheston/Jazz-Jitter-Analysis\n",
    "# TODO: we should install all the modules that the default colab notebook needs here"
   ]
  },
  {
   "cell_type": "code",
   "execution_count": null,
   "id": "BN9OcSpi_NcR",
   "metadata": {
    "colab": {
     "base_uri": "https://localhost:8080/"
    },
    "id": "BN9OcSpi_NcR",
    "outputId": "2286132d-ccfc-4bda-f3b2-6ab6e8966d64"
   },
   "outputs": [],
   "source": [
    "!pip install pretty-midi dill pingouin"
   ]
  },
  {
   "cell_type": "markdown",
   "id": "0096c244",
   "metadata": {
    "id": "0096c244"
   },
   "source": [
    "Although most of the dependencies are imported within the analysis and visualisation scripts we'll be loading here, we still need to import a few additional dependencies here to have access to the objects we're going to create."
   ]
  },
  {
   "cell_type": "code",
   "execution_count": null,
   "id": "a24e3138",
   "metadata": {
    "id": "a24e3138"
   },
   "outputs": [],
   "source": [
    "import sys\n",
    "import os\n",
    "import pandas as pd\n",
    "import numpy as np\n",
    "import matplotlib.pyplot as plt"
   ]
  },
  {
   "cell_type": "markdown",
   "id": "803fe03f",
   "metadata": {
    "id": "803fe03f"
   },
   "source": [
    "When running this script locally (i.e. from inside the `.\\notebooks` directory), we need to add the module root temporarily to our PATH variable in order to access our analysis scripts (located inside `.\\src`)"
   ]
  },
  {
   "cell_type": "code",
   "execution_count": null,
   "id": "2e979bf7",
   "metadata": {
    "colab": {
     "base_uri": "https://localhost:8080/"
    },
    "id": "2e979bf7",
    "outputId": "bf782d8c-5c58-4d56-94e5-6eab906162d9"
   },
   "outputs": [],
   "source": [
    "sys.path.append(os.path.abspath(\"/content/Jazz-Jitter-Analysis\"))\n",
    "print(sys.path)"
   ]
  },
  {
   "cell_type": "markdown",
   "id": "f2d103ce",
   "metadata": {
    "id": "f2d103ce"
   },
   "source": [
    "The following lines of code set dependencies which can be adjusted by the user."
   ]
  },
  {
   "cell_type": "code",
   "execution_count": null,
   "id": "f4d13fdd",
   "metadata": {
    "id": "f4d13fdd"
   },
   "outputs": [],
   "source": [
    "INPUT_DIR = r\"/content/Jazz-Jitter-Analysis/notebooks/example_for_notebook\"    # Default ..//references//example_for_notebook\n",
    "MIDI_MAPPING_FPATH = r\"/content/Jazz-Jitter-Analysis/references\"    # Default ..//references\n",
    "NUM_SIMULATIONS = 250    # Default 250: increasing this value will demand greater system resources!"
   ]
  },
  {
   "cell_type": "markdown",
   "id": "8f27113b",
   "metadata": {
    "id": "8f27113b"
   },
   "source": [
    "## 2. Load and clean the raw data"
   ]
  },
  {
   "cell_type": "code",
   "execution_count": null,
   "id": "96c65451",
   "metadata": {
    "id": "96c65451"
   },
   "outputs": [],
   "source": [
    "from src.clean.gen_pretty_midi import gen_raw_midi_output, gen_pm_output\n",
    "from src.clean.combine import combine_output"
   ]
  },
  {
   "cell_type": "markdown",
   "id": "df4e22ff",
   "metadata": {
    "id": "df4e22ff"
   },
   "source": [
    "The following few lines of code generate our *raw* MIDI data (equivalent to every note played by a performer) and the *BPM* MIDI data (equivalent just to the crotchet beats they played). Both data streams are stored as .MID files created using our AV-Manip software in Reaper."
   ]
  },
  {
   "cell_type": "code",
   "execution_count": null,
   "id": "cff3dab0",
   "metadata": {
    "colab": {
     "base_uri": "https://localhost:8080/"
    },
    "id": "cff3dab0",
    "outputId": "93a26255-bcc4-4aa0-a052-5cfb1c147046"
   },
   "outputs": [],
   "source": [
    "output = {}\n",
    "output['midi_raw'] = gen_raw_midi_output(input_dir=INPUT_DIR, midi_mapping_fpath=MIDI_MAPPING_FPATH)\n",
    "output['midi_bpm'] = gen_pm_output(input_dir=INPUT_DIR, midi_mapping_fpath=MIDI_MAPPING_FPATH)\n",
    "output"
   ]
  },
  {
   "cell_type": "markdown",
   "id": "93046e06",
   "metadata": {
    "id": "93046e06"
   },
   "source": [
    "Now, we combine all of our data streams together."
   ]
  },
  {
   "cell_type": "code",
   "execution_count": null,
   "id": "3fe312b5",
   "metadata": {
    "id": "3fe312b5"
   },
   "outputs": [],
   "source": [
    "combined = combine_output(\n",
    "    input_dir=INPUT_DIR, \n",
    "    output_dir=INPUT_DIR, \n",
    "    dump_pickle=False,\n",
    "    zoom_arr=np.genfromtxt(r\"/content/Jazz-Jitter-Analysis/references/latency_array.csv\"),\n",
    "    **output\n",
    ")"
   ]
  },
  {
   "cell_type": "markdown",
   "id": "3fec5fd6",
   "metadata": {
    "id": "3fec5fd6"
   },
   "source": [
    "Note that, for sake of simplicity, we don't extract the questionnaire responses or biometric data for each musician; however, there are functions present in `.\\src\\clean\\` that will do this (and are called when the full model set is created). As a result, we need to add some placeholder variables into our cleaned data, so we don't end up with errors when creating our model."
   ]
  },
  {
   "cell_type": "code",
   "execution_count": null,
   "id": "1975f6d0",
   "metadata": {
    "id": "1975f6d0"
   },
   "outputs": [],
   "source": [
    "for p in combined:\n",
    "    for t in p:\n",
    "        # We set the questionnaire variables to NoneType\n",
    "        # This will prevent issues if these variables don't exist\n",
    "        for val in ['interaction', 'coordination', 'success', 'thoughts']:\n",
    "            t[val] = None"
   ]
  },
  {
   "cell_type": "markdown",
   "id": "ab2987ab",
   "metadata": {
    "id": "ab2987ab"
   },
   "source": [
    "## 3. Create the model\n",
    "**Process:**\n",
    "- Import the `PhaseCorrectionModel` class\n",
    "- Create the model using our raw keys and drums data\n",
    "- Print the nearest-neighbour matched data for the pianist\n",
    "- Print the model summary for the drummer\n",
    "- Create a summary dataframe combining results from both musicians"
   ]
  },
  {
   "cell_type": "code",
   "execution_count": null,
   "id": "50452f16",
   "metadata": {
    "id": "50452f16"
   },
   "outputs": [],
   "source": [
    "from src.analyse.phase_correction_models import PhaseCorrectionModel"
   ]
  },
  {
   "cell_type": "markdown",
   "id": "18ee1769",
   "metadata": {
    "id": "18ee1769"
   },
   "source": [
    "Now, we separate our raw data variable into a separate dictionary for both the pianist and drummer. We pass these into our `PhaseCorrectionModel` constructor to create the model. The other arguments in our call to `PhaseCorrectionModel` here are just set to their defaults: however, they are defined so you can try altering them and see what happens."
   ]
  },
  {
   "cell_type": "code",
   "execution_count": null,
   "id": "d655e2c6",
   "metadata": {
    "id": "d655e2c6"
   },
   "outputs": [],
   "source": [
    "keys_raw, drms_raw = combined[0]\n",
    "md = PhaseCorrectionModel(\n",
    "    # Raw data (don't change this!)\n",
    "    c1_keys=keys_raw,\n",
    "    c2_drms=drms_raw,\n",
    "    # Patsy model to use (don't change unless you know what you're doing)\n",
    "    model='my_next_ioi_diff~my_prev_ioi_diff+asynchrony',\n",
    "    # Disable any additional cleaning\n",
    "    contamination=0.0,\n",
    "    # Upper and lower bound to filter outlying IOIs\n",
    "    iqr_filter=(0.1, 0.9),   \n",
    "    # Size of the window in seconds to use when generating rolled values\n",
    "    rolling_window_size='2s',\n",
    "    # Minimum number of periods to use when generating rolled data\n",
    "    rolling_min_periods=2,\n",
    "    # Maximum number of seconds to lag the latency array by\n",
    "    maximum_lag=8,\n",
    "    # Maximum order (M) to create higher-level phase correction models up to\n",
    "    higher_level_order=4,\n",
    ")"
   ]
  },
  {
   "cell_type": "markdown",
   "id": "0171e545",
   "metadata": {
    "id": "0171e545"
   },
   "source": [
    "Once we've created our model, we can access a few attributes which might be helpful. First, we'll print the first 5 matched onsets (from the keyboard player's perspective) as a Pandas `DataFrame`. For clarity, 'my' refers to the keyboard player, and 'their' to the drummer:"
   ]
  },
  {
   "cell_type": "code",
   "execution_count": null,
   "id": "5232d3fe",
   "metadata": {
    "colab": {
     "base_uri": "https://localhost:8080/",
     "height": 270
    },
    "id": "5232d3fe",
    "outputId": "82812393-eccd-4b42-e46d-82ab0786913e",
    "scrolled": false
   },
   "outputs": [],
   "source": [
    "md.keys_nn.head(5)"
   ]
  },
  {
   "cell_type": "markdown",
   "id": "d596bfdf",
   "metadata": {
    "id": "d596bfdf"
   },
   "source": [
    "Next, we'll print a summary of the model itself (as a StatsModels `OLSResults` instance) for the drummer:"
   ]
  },
  {
   "cell_type": "code",
   "execution_count": null,
   "id": "6ed11393",
   "metadata": {
    "colab": {
     "base_uri": "https://localhost:8080/",
     "height": 473
    },
    "id": "6ed11393",
    "outputId": "d7dfc0ca-3d72-4318-9693-21de8fd0641c"
   },
   "outputs": [],
   "source": [
    "md.drms_md.summary()"
   ]
  },
  {
   "cell_type": "markdown",
   "id": "65ea808c",
   "metadata": {
    "id": "65ea808c"
   },
   "source": [
    "If you look at the code for `PhaseCorrectionModel`, you'll notice that there are lots of private methods (e.g. `_extract_tempo_slope()`) that carry out particular analyses tasks. Rather than call these methods individually, we can access the pre-computed results using either the `md.keys_dic` or `md.drms_dic` attribute."
   ]
  },
  {
   "cell_type": "code",
   "execution_count": null,
   "id": "d3ee4102",
   "metadata": {
    "colab": {
     "base_uri": "https://localhost:8080/"
    },
    "id": "d3ee4102",
    "outputId": "0541b637-4e77-4c65-c64e-ca304f9319e8"
   },
   "outputs": [],
   "source": [
    "md.keys_dic"
   ]
  },
  {
   "cell_type": "markdown",
   "id": "8285936a",
   "metadata": {
    "id": "8285936a"
   },
   "source": [
    "Finally, we compile a `DataFrame` using both the `md.keys_dic` and `md.drms_dic` attributes together. When working with the full corpus, we can use this to create a nice table, where a single row corresponds to the performance of one musician in one condition. But, for now, we'll just have two rows, one for each performer in our example extract."
   ]
  },
  {
   "cell_type": "code",
   "execution_count": null,
   "id": "95a10d34",
   "metadata": {
    "colab": {
     "base_uri": "https://localhost:8080/",
     "height": 436
    },
    "id": "95a10d34",
    "outputId": "388c69fe-5b27-4b2a-85ab-3a8cf534b0a4"
   },
   "outputs": [],
   "source": [
    "df = pd.DataFrame([md.keys_dic, md.drms_dic])\n",
    "df"
   ]
  },
  {
   "cell_type": "markdown",
   "id": "044d0791",
   "metadata": {
    "id": "044d0791"
   },
   "source": [
    "## 4. Generate all the simulations\n",
    "**Process:**\n",
    "- Create the required simulation paradigms (e.g. `anarchy`, `democracy` etc.)\n",
    "- Create the simulation objects for each paradigm"
   ]
  },
  {
   "cell_type": "markdown",
   "id": "977a5a50",
   "metadata": {
    "id": "977a5a50"
   },
   "source": [
    "First, we need to import our Simulation class:"
   ]
  },
  {
   "cell_type": "code",
   "execution_count": null,
   "id": "a715ba2f",
   "metadata": {
    "id": "a715ba2f"
   },
   "outputs": [],
   "source": [
    "from src.analyse.simulations import Simulation"
   ]
  },
  {
   "cell_type": "markdown",
   "id": "405ee411",
   "metadata": {
    "id": "405ee411"
   },
   "source": [
    "We can now proceed to create each of our simulation paradigms. These are:\n",
    "- `original`: coupling coefficients defined in the model\n",
    "- `democracy`: both performers coupled to each other at equal rates\n",
    "- `anarchy`: no adaptation or correction between performers\n",
    "- `leadership`: pianist coupled to drummer, drummer not coupled to pianist\n",
    "\n",
    "Our `original` simulation paradigm just uses the coefficients defined in the model, for both performers."
   ]
  },
  {
   "cell_type": "code",
   "execution_count": null,
   "id": "5ac22f8b",
   "metadata": {
    "id": "5ac22f8b"
   },
   "outputs": [],
   "source": [
    "original = df.copy()"
   ]
  },
  {
   "cell_type": "markdown",
   "id": "3955a24b",
   "metadata": {
    "id": "3955a24b"
   },
   "source": [
    "Our `democracy` paradigm sets the coupling of both performers precisely equal to each other, to the mean coefficient. We set the intercept to `0` to ensure the stability of the simulation."
   ]
  },
  {
   "cell_type": "code",
   "execution_count": null,
   "id": "ea295f9c",
   "metadata": {
    "id": "ea295f9c"
   },
   "outputs": [],
   "source": [
    "democracy = df.copy()\n",
    "democracy['correction_partner'] = democracy['correction_partner'].mean()\n",
    "democracy['intercept'] = 0"
   ]
  },
  {
   "cell_type": "markdown",
   "id": "0e1fce90",
   "metadata": {
    "id": "0e1fce90"
   },
   "source": [
    "Our `anarchy` model sets the coupling of both performers to `0`, simulating no adaptation or correction between them. Again, we set the intercept to `0` to ensure the stability of the simulation."
   ]
  },
  {
   "cell_type": "code",
   "execution_count": null,
   "id": "fea811c9",
   "metadata": {
    "id": "fea811c9"
   },
   "outputs": [],
   "source": [
    "anarchy = df.copy()\n",
    "anarchy['correction_partner'] = 0\n",
    "anarchy['intercept'] = 0"
   ]
  },
  {
   "cell_type": "markdown",
   "id": "18a4b491",
   "metadata": {
    "id": "18a4b491"
   },
   "source": [
    "Finally, our `leadership` model sets the coupling of the drummer to the pianist to `0` but does not change the coupling of the pianist to the drummer, simulating a leader-follower relationship (with the drummer as the leader). We again set the intercept to `0` to ensure the stability of the simulation."
   ]
  },
  {
   "cell_type": "code",
   "execution_count": null,
   "id": "7728da32",
   "metadata": {
    "id": "7728da32"
   },
   "outputs": [],
   "source": [
    "leadership = df.copy()\n",
    "leadership['correction_partner'] = np.where(\n",
    "    leadership['instrument'] == 'Drums', 0,\n",
    "    leadership[leadership['instrument'] == 'Keys']['correction_partner']\n",
    ")\n",
    "leadership['intercept'] = 0"
   ]
  },
  {
   "cell_type": "markdown",
   "id": "11eeff62",
   "metadata": {
    "id": "11eeff62"
   },
   "source": [
    "OK, now we can create all of our simulations. The following code iterates over all of the paradigms we defined above, creates the `Simulation` object for each paradigm, creates the desired number of individual simulated performances (defined in the `NUM_SIMULATIONS` constant), then stores the results in our `sims_list` iterable that we'll access when creating our graphs later."
   ]
  },
  {
   "cell_type": "code",
   "execution_count": null,
   "id": "bbdad318",
   "metadata": {
    "id": "bbdad318"
   },
   "outputs": [],
   "source": [
    "sims_list = []\n",
    "for md_, param in zip(\n",
    "    [original, anarchy, democracy, leadership], \n",
    "    ['original', 'anarchy', 'democracy', 'leadership'],\n",
    "):\n",
    "    sim_ = Simulation(\n",
    "        # The phase correction model results\n",
    "        pcm=md_,\n",
    "        # The number of simulations we'll run, defaults to 250\n",
    "        num_simulations=NUM_SIMULATIONS,\n",
    "        # This argument is just used to store the parameter used as a string inside the Simulation instance\n",
    "        parameter=param, \n",
    "        # Tells the simulation to use the original noise term of the model\n",
    "        use_original_noise=False,\n",
    "        noise=0.005\n",
    "    )\n",
    "    sim_.create_all_simulations()\n",
    "    sims_list.append(sim_)"
   ]
  },
  {
   "cell_type": "markdown",
   "id": "73c05259",
   "metadata": {
    "id": "73c05259"
   },
   "source": [
    "## 5. Create some graphs\n",
    "\n",
    "**Process:**\n",
    "- Create a plot showing modelled coupling coefficients, relative phase, and tempo\n",
    "- Create a plot comparing between simulated tempo and asynchrony across paradigms"
   ]
  },
  {
   "cell_type": "markdown",
   "id": "46bc037b",
   "metadata": {
    "id": "46bc037b"
   },
   "source": [
    "First, we'll create a nice plot of the individual coupling coefficients obtained for each performer, the relative phase of each performer compared to their partner (whether they play 'in-front' or 'behind'), and the tempo trajectory of their performance."
   ]
  },
  {
   "cell_type": "code",
   "execution_count": null,
   "id": "9944ff19",
   "metadata": {
    "id": "9944ff19"
   },
   "outputs": [],
   "source": [
    "from src.visualise.phase_correction_graphs import SingleConditionPlot\n",
    "from src.analyse.analysis_utils import generate_df"
   ]
  },
  {
   "cell_type": "code",
   "execution_count": null,
   "id": "8bb41424",
   "metadata": {
    "colab": {
     "base_uri": "https://localhost:8080/",
     "height": 1000
    },
    "id": "8bb41424",
    "outputId": "a22ba2c3-e589-46a5-99d6-03133d192ff3"
   },
   "outputs": [],
   "source": [
    "g = SingleConditionPlot(\n",
    "    # Keys data\n",
    "    keys_df=md.keys_nn,\n",
    "    keys_md=md.keys_md,\n",
    "    keys_o=generate_df(md.keys_dic['raw_beats'][0]),\n",
    "    # Drums data\n",
    "    drms_df=md.drms_nn,\n",
    "    drms_md=md.drms_md,\n",
    "    drms_o=generate_df(md.drms_dic['raw_beats'][0]),\n",
    "    # Metadata used to create the plot title, etc.\n",
    "    metadata=(\n",
    "        3, 1, 90, 0\n",
    "    )\n",
    ")\n",
    "g.create_plot()\n",
    "plt.show()"
   ]
  },
  {
   "cell_type": "markdown",
   "id": "638fcd7b",
   "metadata": {
    "id": "638fcd7b"
   },
   "source": [
    "Finally, we'll generate a line plot that compares the simulated tempo and asynchrony values obtained across all of our paradigms."
   ]
  },
  {
   "cell_type": "code",
   "execution_count": null,
   "id": "c5c1cc83",
   "metadata": {
    "id": "c5c1cc83"
   },
   "outputs": [],
   "source": [
    "from src.visualise.simulations_graphs import LinePlotAllParameters"
   ]
  },
  {
   "cell_type": "code",
   "execution_count": null,
   "id": "fa485761",
   "metadata": {
    "colab": {
     "base_uri": "https://localhost:8080/",
     "height": 1000
    },
    "id": "fa485761",
    "outputId": "4c4d9ee0-2c0d-431f-da78-2f11c64a633e"
   },
   "outputs": [],
   "source": [
    "g = LinePlotAllParameters(\n",
    "    simulations=sims_list,\n",
    "    keys_orig=md.keys_nn,\n",
    "    drms_orig=md.drms_nn,\n",
    "    # Metadata used to create the plot title, etc.\n",
    "    params={\n",
    "        'trial': 3,\n",
    "        'block': 1,\n",
    "        'latency': 90,\n",
    "        'jitter': 0\n",
    "    }\n",
    ")\n",
    "g.create_plot()\n",
    "plt.show()"
   ]
  }
 ],
 "metadata": {
  "colab": {
   "provenance": []
  },
  "gpuClass": "standard",
  "kernelspec": {
   "display_name": "Python 3 (ipykernel)",
   "language": "python",
   "name": "python3"
  },
  "language_info": {
   "codemirror_mode": {
    "name": "ipython",
    "version": 3
   },
   "file_extension": ".py",
   "mimetype": "text/x-python",
   "name": "python",
   "nbconvert_exporter": "python",
   "pygments_lexer": "ipython3",
   "version": "3.9.6"
  }
 },
 "nbformat": 4,
 "nbformat_minor": 5
}
